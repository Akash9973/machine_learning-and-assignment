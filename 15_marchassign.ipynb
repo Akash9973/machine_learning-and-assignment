{
 "cells": [
  {
   "cell_type": "markdown",
   "id": "d11bbf31-38d3-449a-8ee7-17f6a3349448",
   "metadata": {},
   "source": [
    "### Q1- Explain thK followin  with an example\n",
    "### a) Artificial Intelligence\n",
    "### b) Machine Learning\n",
    "### c) Deep Learning "
   ]
  },
  {
   "cell_type": "markdown",
   "id": "2d9c0880-4ecd-444a-b3a9-257b42c2d768",
   "metadata": {},
   "source": [
    "Artifical Intelligence is an intelligence of the machine where applications can be able to do its task without human intervention. eg- AI robots, netflix recommendation etc\n",
    "\n",
    "machine learning is a subset of AI where it uses statistical tool to analyze, supervise and prediction of the datas. eg. if a model is trained in such a manner so that it will predict the output based on the previous data. suppose a machine is trained such that if the location and the size of the house is given then it will going to predict the price of the house, so machine is being trained by giving different datas,like in particular size it will be cost around particular amount, and when the model is being trained then it will going to predict the output.\n",
    "\n",
    "Deep learing is a subset of ML, Deep learning is designed in such a manner so that machine  will think like a human brain, for eg Neural network"
   ]
  },
  {
   "cell_type": "markdown",
   "id": "c9ecfa18-b23f-4dbe-8ea0-31099a8ec1a2",
   "metadata": {},
   "source": [
    "### Q2- What is supervised learning? List some examples of supervised learning."
   ]
  },
  {
   "cell_type": "markdown",
   "id": "3d5bfc35-968d-4ff8-92b2-474bed254b0a",
   "metadata": {},
   "source": [
    "Supervised learning is a process in machine learning  in which our model is trained by giving both input as well as output and then machine predict the output based on the previous inputs.It is of 2 types classification and regression.eg credit card detection, fraud detection, car price prediction etc"
   ]
  },
  {
   "cell_type": "markdown",
   "id": "241d304d-5f4b-4de4-86ab-727022c7e9d5",
   "metadata": {},
   "source": [
    "### Q3- What is unsupervised learning? List some examples of unsupervised learning."
   ]
  },
  {
   "cell_type": "markdown",
   "id": "4fd670b8-a639-449c-b206-1c5154f534d6",
   "metadata": {},
   "source": [
    "Unsupervised learning is those type of machine learning in which the model is trained in such a way that we only give the input, the machine will gives the desired output by making a clusters of common type of datas. eg- movie recommender,dimension reduction and clustering"
   ]
  },
  {
   "cell_type": "markdown",
   "id": "0bdbb080-66af-43d6-bdd7-96c6da5c9375",
   "metadata": {},
   "source": [
    "### Q4- What is the difference between AI, ML, DL, and DS?"
   ]
  },
  {
   "cell_type": "markdown",
   "id": "df1d8652-1bd7-466d-83c3-a9883d33b046",
   "metadata": {},
   "source": [
    "AI is the technology in which machine perform its own task without humans,whereas ML is a subset of AI where machine uses statistical tool to analyze the data, whereas deep learning DL is the mimic of human brain. DL is the subset of ML where machine will think like a human brain.DS consists of all the domain of AI ML and DL, Data science uses deep learning and machine learning applications to build AI tools. "
   ]
  },
  {
   "cell_type": "markdown",
   "id": "1838ef53-1c77-4055-9112-39db92d45047",
   "metadata": {},
   "source": [
    "###  Q5- What are the main differences between supervised, unsupervised, and semi-supervised learning?"
   ]
  },
  {
   "cell_type": "markdown",
   "id": "e30ecbe8-901e-4afb-95f4-cf7d2a186f50",
   "metadata": {},
   "source": [
    "In supervised learning the machine is trained by giving both the input as well as output and then macchine predict the output of the test data based on the training dataset. where as in unsupervised learning the machhine is only given data and it will predict the output by making the clusters of the dataset, basically the machine only given input and machine will categories these inputs. whereas in semi-supervised learning is the ccombination of both supervised and unsupervised learning."
   ]
  },
  {
   "cell_type": "markdown",
   "id": "cbb707f0-b6c7-4c7d-83da-997e93a60c76",
   "metadata": {},
   "source": [
    "### Q6- What is train, test and validation split? Explain the importance of each term."
   ]
  },
  {
   "cell_type": "markdown",
   "id": "4f1ecc7e-ef9a-4592-ba4b-dd5f4ab02104",
   "metadata": {},
   "source": [
    "Train data is used to for training the machine. Validation is used to tune the hyperparameters  and test data is used to check wheter the machine is predicting the result accurately or not. So in machine learning process train test and validation plays a very essential role. \n",
    "example- suppose for giving any government exam we will first train ourselves by reading standard books this is called trained dataset after that we wiil practice from quetion bank or from previous year questions so that our accuracy improves this is known as validation . Then we will give exam in order to check whether our model is being trained accurately or not. if we get passed then we say our model is trained accurately of if fail then we have to train more. "
   ]
  },
  {
   "cell_type": "markdown",
   "id": "47800c40-e61a-4dfe-a700-adb91762362f",
   "metadata": {},
   "source": [
    "### Q7- How can unsupervised learning be used in anomaly detection?"
   ]
  },
  {
   "cell_type": "markdown",
   "id": "e514d0b5-0131-4f1f-99fa-d337096ef4ad",
   "metadata": {},
   "source": [
    "Unsupervised learning in anomaly detection involves using a dataset containing both normal and anomalous instances. After preprocessing the data and selecting relevant features, an unsupervised learning algorithm, such as clustering or density-based algorithms, or autoencoders, is trained on the normal instances. The trained model is then used to assign anomaly scores or labels to unseen instances, and a threshold is established to determine anomalies. The system's performance is evaluated using appropriate metrics, and adjustments are made to the threshold if needed."
   ]
  },
  {
   "cell_type": "markdown",
   "id": "3646cf89-9f59-448f-b38e-bbf493b145e2",
   "metadata": {},
   "source": [
    "### Q8- List down some commonly used supervised learning algorithms and unsupervised learning algorithm"
   ]
  },
  {
   "cell_type": "markdown",
   "id": "1486e77b-001e-4896-8e43-aa13e7ea4fe5",
   "metadata": {},
   "source": [
    "supervised learning -> regression, ridge and lasso,Adaboost, Xg boost, KNN, decision tree\n",
    "Unsupervised learning -> k mean, DB scan, LDA, PLA, Hier"
   ]
  }
 ],
 "metadata": {
  "kernelspec": {
   "display_name": "Python 3 (ipykernel)",
   "language": "python",
   "name": "python3"
  },
  "language_info": {
   "codemirror_mode": {
    "name": "ipython",
    "version": 3
   },
   "file_extension": ".py",
   "mimetype": "text/x-python",
   "name": "python",
   "nbconvert_exporter": "python",
   "pygments_lexer": "ipython3",
   "version": "3.10.8"
  }
 },
 "nbformat": 4,
 "nbformat_minor": 5
}
