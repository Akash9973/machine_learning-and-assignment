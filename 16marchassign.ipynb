{
 "cells": [
  {
   "cell_type": "markdown",
   "id": "f425e1a9-f303-4284-8e5d-588bef546126",
   "metadata": {},
   "source": [
    "### Q1: Define overfitting and underfitting in machine learning. What are the consequences of each, and how can they be mitigated?\n"
   ]
  },
  {
   "cell_type": "markdown",
   "id": "f80b5fef-4d65-43d5-8dde-f3eb0df67cbb",
   "metadata": {},
   "source": [
    "When a machine learing model works properly and gives accurate result in training data but gives inaccurate or undesired output in test data then this situation is called overfitting. The situation in which the model perform bad in bith training data as well as in test data then this is known as underfitting.Overfitting has low biased and high variance and underfitting is high biased and high variance."
   ]
  },
  {
   "cell_type": "markdown",
   "id": "fa4998d0-e67e-441c-96e2-714d5c9257de",
   "metadata": {},
   "source": [
    "### Q2: How can we reduce overfitting? Explain in brief."
   ]
  },
  {
   "cell_type": "markdown",
   "id": "bd58a100-bd88-4dbe-a986-f3505f66d97d",
   "metadata": {},
   "source": [
    "In order to reduce overfitting instead of using all the data in training we can provide the subset of data in training the model.This is known as train test split. In train test split we divide the training data into two parts i.e training data and test data. Training data is used to traing our ML model and test data is used for examining wheter the model works accurately or not. Generally it is being consider that in a training dataset 70 % of the data is used for training the model and 30% used for testing.Suppose if a model is in such a way that as the data is increases the result increases or decreases exponentially or not in a linear onder then in this situation we split the data in a method which  is known as cross validaion."
   ]
  },
  {
   "cell_type": "markdown",
   "id": "b6bdf984-b826-4b18-8f35-649ff9a4d1f5",
   "metadata": {},
   "source": [
    "### Q3: Explain underfitting. List scenarios where underfitting can occur in ML."
   ]
  },
  {
   "cell_type": "markdown",
   "id": "a6954b0e-1e7d-4562-87b6-6572cb844f8c",
   "metadata": {},
   "source": [
    "Underfitting is a situation in which a our model do not perform well either in training data as well as in test data. This sitaution has occur in model having  high biased and hish variance. \n",
    "\n",
    "Underfitting can occur due to many reasons. when the training dataset is not enough for training the model then underfitting can occur. when model is too simple it means when the model has very few features then the chances of underfitting might occurs.when the training dataset has lots of noise and irregularities then underfitting can occurs"
   ]
  },
  {
   "cell_type": "markdown",
   "id": "36ed2d63-a7fd-471c-93c2-04f9b243eda6",
   "metadata": {},
   "source": [
    "### Q4: Explain the bias-variance tradeoff in machine learning. What is the relationship between bias and variance, and how do they affect model performance?\n"
   ]
  },
  {
   "cell_type": "markdown",
   "id": "418a3638-1bc5-4098-8323-c62d5317424a",
   "metadata": {},
   "source": [
    "In a machine learing algorithm when there is a differnce in the predicted value and the actual value in training data then it is known as bias, where as if there is a difference in actual value and predicted value in test data then it is known as variance. For having a generalised model there must be having low biased and low variance.If the data in training model. \n",
    "\n",
    "whenever we are trying to train our model to give the better fit it saw that when the model is low biaed leads to increse in variance and This way, the model will fit with the data set while increasing the chances of inaccurate predictions"
   ]
  },
  {
   "cell_type": "markdown",
   "id": "d4fbc668-955b-4335-b1c0-dbe98d252b68",
   "metadata": {},
   "source": [
    "### Q5: Discuss some common methods for detecting overfitting and underfitting in machine learning models.How can you determine whether your model is overfitting or underfitting?\n"
   ]
  },
  {
   "cell_type": "markdown",
   "id": "59956b57-3d75-417d-a187-0a7337b254ab",
   "metadata": {},
   "source": [
    "Bias-Variance tradeoff, regularisation,cross validation, train-test split are the common methods for detecting overfitting and underfitting.\n",
    "\n",
    "In a model if the data is highly accurate in training data but not accurate in test data then we can say it that our model is in overfitting. If the model is not accurate either in both training data as well as in test data then we can say that model is in underfitting."
   ]
  },
  {
   "cell_type": "markdown",
   "id": "9942b7fe-1363-444e-bb10-e9d7ba761bdb",
   "metadata": {},
   "source": [
    "### Q6: Compare and contrast bias and variance in machine learning. What are some examples of high bias and high variance models, and how do they differ in terms of their performance?\n",
    "                                                                                                                \n",
    "\n"
   ]
  },
  {
   "cell_type": "markdown",
   "id": "0f0cd06d-acbd-4356-a137-9732097560dc",
   "metadata": {},
   "source": [
    "Bias is generally seen in a training data and variance is in test data. when in a model if we lower the bias value then the the vairance increases leads to inaccuracy in performance. when the model has high variance as well as high bias then the model is in underfitting.if the model do not perform well  in both training as well as test data then we can understand that the model is a high biased as well as high variance.their performance is very poor"
   ]
  },
  {
   "cell_type": "markdown",
   "id": "a522fa6d-405f-4867-a48f-445d8e2d640d",
   "metadata": {},
   "source": [
    "### Q7: What is regularization in machine learning, and how can it be used to prevent overfitting? Describe some common regularization techniques and how they work.\n"
   ]
  },
  {
   "cell_type": "markdown",
   "id": "d0b75ec4-1858-4c52-b450-83934071ec5f",
   "metadata": {},
   "source": [
    "Regularisation is a technique in a Ml which is used to prevent overfitting.Some regualrisation techniques are L1 and L2 regularisarion,L1 regularisation is called ridge regression and L2 regularisation is cl"
   ]
  }
 ],
 "metadata": {
  "kernelspec": {
   "display_name": "Python 3 (ipykernel)",
   "language": "python",
   "name": "python3"
  },
  "language_info": {
   "codemirror_mode": {
    "name": "ipython",
    "version": 3
   },
   "file_extension": ".py",
   "mimetype": "text/x-python",
   "name": "python",
   "nbconvert_exporter": "python",
   "pygments_lexer": "ipython3",
   "version": "3.10.8"
  }
 },
 "nbformat": 4,
 "nbformat_minor": 5
}
